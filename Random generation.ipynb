{
 "cells": [
  {
   "cell_type": "code",
   "execution_count": 1,
   "metadata": {},
   "outputs": [],
   "source": [
    "import numpy as np\n",
    "from numpy import *"
   ]
  },
  {
   "cell_type": "markdown",
   "metadata": {},
   "source": [
    "# Random generation in numpy"
   ]
  },
  {
   "cell_type": "code",
   "execution_count": 2,
   "metadata": {},
   "outputs": [
    {
     "name": "stdout",
     "output_type": "stream",
     "text": [
      "[0.05999338 0.30243101 0.81408551 0.74677395 0.54093624]\n"
     ]
    }
   ],
   "source": [
    "arr=np.random.rand(5)\n",
    "print(arr)"
   ]
  },
  {
   "cell_type": "code",
   "execution_count": 3,
   "metadata": {},
   "outputs": [
    {
     "name": "stdout",
     "output_type": "stream",
     "text": [
      "[[0.80222575 0.03978338 0.7532259  0.64688303]\n",
      " [0.0936529  0.30163816 0.01704948 0.85866529]\n",
      " [0.77213213 0.41196008 0.69329567 0.74158632]]\n"
     ]
    }
   ],
   "source": [
    "arr=random.rand(3,4)\n",
    "print(arr)"
   ]
  },
  {
   "cell_type": "code",
   "execution_count": 4,
   "metadata": {},
   "outputs": [
    {
     "name": "stdout",
     "output_type": "stream",
     "text": [
      "[[[0.9642184  0.06540489 0.35011729 0.35891133 0.83204257]\n",
      "  [0.56067245 0.27119955 0.55489802 0.68290312 0.91767474]\n",
      "  [0.24346099 0.88524255 0.32953131 0.97733751 0.03415085]\n",
      "  [0.49274857 0.14504177 0.31035673 0.81814455 0.45114592]]\n",
      "\n",
      " [[0.47508144 0.89879527 0.70863627 0.04664098 0.27543068]\n",
      "  [0.26858727 0.51585817 0.18386556 0.47413534 0.44652174]\n",
      "  [0.21912768 0.22921801 0.24796358 0.50481855 0.65408964]\n",
      "  [0.82969311 0.38484052 0.11587221 0.31005916 0.03230908]]\n",
      "\n",
      " [[0.25006024 0.60285739 0.4665943  0.48098777 0.38635478]\n",
      "  [0.30710646 0.73868216 0.75766966 0.94562614 0.6167621 ]\n",
      "  [0.13733801 0.89401356 0.6036628  0.58048112 0.38932475]\n",
      "  [0.55078512 0.60114455 0.39971133 0.20116405 0.96287271]]]\n"
     ]
    }
   ],
   "source": [
    "arr=random.rand(3,4,5)\n",
    "print(arr)"
   ]
  },
  {
   "cell_type": "code",
   "execution_count": 5,
   "metadata": {},
   "outputs": [
    {
     "name": "stdout",
     "output_type": "stream",
     "text": [
      "[ 1.4114931   0.42116103 -0.03481198 -1.04023681  0.57706693]\n"
     ]
    }
   ],
   "source": [
    "arr=random.randn(5)\n",
    "print(arr)"
   ]
  },
  {
   "cell_type": "code",
   "execution_count": 6,
   "metadata": {},
   "outputs": [
    {
     "name": "stdout",
     "output_type": "stream",
     "text": [
      "[[ 0.54194986  0.90352107 -0.1513618   1.07396486]\n",
      " [ 1.14611406  1.59490117  1.0714444   1.21989468]\n",
      " [-0.71098441 -0.35779339 -1.72366321  0.92775748]]\n"
     ]
    }
   ],
   "source": [
    "arr=random.randn(3,4)\n",
    "print(arr)"
   ]
  },
  {
   "cell_type": "code",
   "execution_count": 13,
   "metadata": {},
   "outputs": [
    {
     "name": "stdout",
     "output_type": "stream",
     "text": [
      "[4 5 7 5 1]\n"
     ]
    }
   ],
   "source": [
    "arr=np.random.randint(1,11,5)\n",
    "print(arr)"
   ]
  },
  {
   "cell_type": "code",
   "execution_count": 14,
   "metadata": {},
   "outputs": [
    {
     "name": "stdout",
     "output_type": "stream",
     "text": [
      "[7 5 8 5 7]\n"
     ]
    }
   ],
   "source": [
    "arr=np.random.randint(1,11,5)\n",
    "print(arr)"
   ]
  },
  {
   "cell_type": "code",
   "execution_count": 16,
   "metadata": {},
   "outputs": [
    {
     "name": "stdout",
     "output_type": "stream",
     "text": [
      "[[ 6  9  4  7  3  6]\n",
      " [12 11  1 10 11 13]\n",
      " [11  3 13  8  9  4]\n",
      " [ 6  6  3 10  1 13]]\n"
     ]
    }
   ],
   "source": [
    "arr=random.randint(1,15,(4,6))\n",
    "print(arr)"
   ]
  },
  {
   "cell_type": "code",
   "execution_count": 18,
   "metadata": {},
   "outputs": [
    {
     "name": "stdout",
     "output_type": "stream",
     "text": [
      "[[[ 1  4  1  4  7]\n",
      "  [ 9  8  2  3  2]\n",
      "  [ 4  6  8  8  3]\n",
      "  [ 6  8  6  7  5]]\n",
      "\n",
      " [[ 3  6  5  4 10]\n",
      "  [10  8  4  2  2]\n",
      "  [ 7  8  3  6  2]\n",
      "  [ 6  6  3  6  9]]\n",
      "\n",
      " [[ 8 10  4  1  8]\n",
      "  [ 3  1  8  1  6]\n",
      "  [ 8  3  1  8  7]\n",
      "  [ 3  1  6  2 10]]]\n"
     ]
    }
   ],
   "source": [
    "arr=random.randint(1,11,(3,4,5))\n",
    "print(arr)"
   ]
  },
  {
   "cell_type": "code",
   "execution_count": null,
   "metadata": {},
   "outputs": [],
   "source": []
  }
 ],
 "metadata": {
  "kernelspec": {
   "display_name": "Python 3",
   "language": "python",
   "name": "python3"
  },
  "language_info": {
   "codemirror_mode": {
    "name": "ipython",
    "version": 3
   },
   "file_extension": ".py",
   "mimetype": "text/x-python",
   "name": "python",
   "nbconvert_exporter": "python",
   "pygments_lexer": "ipython3",
   "version": "3.8.5"
  }
 },
 "nbformat": 4,
 "nbformat_minor": 4
}
